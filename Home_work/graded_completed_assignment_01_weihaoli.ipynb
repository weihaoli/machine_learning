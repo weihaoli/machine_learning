{
 "cells": [
  {
   "cell_type": "markdown",
   "metadata": {
    "deletable": true,
    "editable": true
   },
   "source": [
    "### <span style=\"color:blue\"> ***Score: 95*** </span>"
   ]
  },
  {
   "cell_type": "markdown",
   "metadata": {
    "deletable": true,
    "editable": true
   },
   "source": [
    "### <span style=\"color:blue\"> Questions 1: -5 pts </span>\n",
    "\n",
    "<span style=\"color:blue\"> \n",
    "Main comments: All time complexity estimations are in big $\\mathcal{O}$, i.e. there are constants in front of all costs, so you cannot simply sum them up.\n",
    "</span>"
   ]
  },
  {
   "cell_type": "markdown",
   "metadata": {
    "deletable": true,
    "editable": true
   },
   "source": [
    "### Problem 1, please work out the time complexity of computing a naive K-Fold Cross Validation Ridge Regression on an N × F input matrix"
   ]
  },
  {
   "cell_type": "markdown",
   "metadata": {
    "deletable": true,
    "editable": true
   },
   "source": [
    "* We first evaluate the time complexity for ridge regression.\n",
    "\n",
    "\n",
    "\n",
    "\\begin{equation}\n",
    "\\hat\\beta = (X^T X + \\lambda I)^ {-1} X^TY\n",
    "\\end{equation}\n",
    "\n",
    "And the time complexity in big **O( )** notation will be the maximum of the time complexity of these operations. \n",
    "\n",
    "| Operation | time complexity |\n",
    "|---------------|-|\n",
    "| $X^T X$ |   $NF^2$    |\n",
    "| $X^T X +\\lambda I$|   $F$     |\n",
    "| $(X^T X + \\lambda I)^ {-1}$|   $F^3$     |\n",
    "|$(X^T X + \\lambda I)^ {-1} X^T$|$F^2N$|\n",
    "| $(X^T X + \\lambda I)^ {-1} X^TY$|$NF$|\n",
    "\n",
    "So the time complexity if **$\\left({O(F^2(F+N)}\\right)$**\n",
    "\n",
    "* When using K-Fold Cross Validation Ridge Regression, we do ridge regression for K times. We repeat ridge regression K times for each $\\lambda$.The number of samples will be shrinked to  $\\frac{(K-1)}{K} N$. However, these factors are constant when we only consider the matrix dimentions. So, the time complexity is  **$\\left({O(F^2(F+N)}\\right)$**\n",
    "* Take K into considerations, we will have the time complexity as **$\\left({O(KF^2(F+N)}\\right)$**"
   ]
  },
  {
   "cell_type": "markdown",
   "metadata": {
    "deletable": true,
    "editable": true
   },
   "source": [
    "### Problem 2 write a description  of how you can efficiently compute X −i X −i for all K folds.\n",
    "\n",
    "* first, we devide X into K blcok\n",
    "$$\n",
    "X = \\left[\n",
    "    \\begin{matrix}\n",
    "     X_1 \\\\ X_2 \\\\ ... \\\\ X_k \n",
    "    \\end{matrix}\n",
    "    \\right]\n",
    "$$\n",
    "\n",
    "and then we comput $X_k^T \\, X_k$ by doing dot mltiplication one by one.\n",
    "\n",
    "\n",
    "\n",
    "* Second, suming up these matrixs we have\n",
    "$$\n",
    "X^T X \n",
    "       =\\sum \\left[\n",
    "        \\begin{matrix}\n",
    "        X_1^T \\, X_1 + X_2^T \\, X_2 + ... + X_k^T \\, X_k \n",
    "        \\end{matrix}\n",
    "        \\right] \n",
    "$$\n",
    "\n",
    "\n",
    "\n",
    "\n",
    "* Finally, we  compute \n",
    "$X_{-i}^T \\, X_{-i} = XTX - X_i^T \\, X_i$\n"
   ]
  },
  {
   "cell_type": "code",
   "execution_count": 1,
   "metadata": {
    "collapsed": true,
    "deletable": true,
    "editable": true
   },
   "outputs": [],
   "source": [
    "import numpy as np\n",
    "import time \n",
    "import matplotlib.pyplot as plt\n",
    "import timeit"
   ]
  },
  {
   "cell_type": "code",
   "execution_count": 167,
   "metadata": {
    "collapsed": true,
    "deletable": true,
    "editable": true
   },
   "outputs": [],
   "source": [
    "def generate_test_data(n ,f ):\n",
    "    \"\"\"\n",
    "    Given from assignment\n",
    "    \"\"\"\n",
    "    np.random.seed( 1 )\n",
    "    truebetas = np.random.randn(f )\n",
    "    X = np.random.randn( n , f )\n",
    "    Y = np.random.randn( n ) + X.dot(truebetas)\n",
    "    return (X,Y)\n",
    "\n",
    "def pre_process(X,Y,num_folds):\n",
    "    \"\"\"\n",
    "    commend in the line with *** to random shuffle data before CV\n",
    "    randomly shuffle X and Y correspondly\n",
    "    return shuffled X,y and k folds of Xk's and Yk's\n",
    "    \"\"\"\n",
    "    \n",
    "    #*****shuffle_seed = 1\n",
    "    \n",
    "    #*****np.random.seed(shuffle_seed )\n",
    "    #*****np.random.shuffle(X)\n",
    "    x_blocks = np.split(X,num_folds)\n",
    "    \n",
    "    #keep shuffled data in order\n",
    "    #*****np.random.seed(shuffle_seed )\n",
    "    #*****np.random.shuffle(Y)\n",
    "    y_blocks = np.split(Y,num_folds)\n",
    "    \n",
    "    #get the training sets in CV\n",
    "  \n",
    "    \n",
    "    \"\"\"\n",
    "    ********************************************************************\n",
    "    By caching the train sets, we can really speed up for both\n",
    "    for N = 1000,000 F = 50, K = 10,num_lambdas = 5\n",
    "    Naive took 11.3 seconds\n",
    "    Quick version took 2.36 seconds\n",
    "    However, this will result in memory error in PC with small memory.\n",
    "    *********************************************************************\n",
    "    \n",
    "    for j in range(num_folds):\n",
    "        x_train.append(np.vstack([fold for index,fold in enumerate(x_blocks) if index != j]))\n",
    "        y_train.append(np.concatenate([fold for index,fold in enumerate(y_blocks) if index != j ]))\n",
    "     \n",
    "    \"\"\"\n",
    "    return X,Y,x_blocks,y_blocks\n",
    "       \n",
    "def _solve_lineareq(X,y,alambdas):\n",
    "    \"\"\"\n",
    "    solve the linear equation with X,Y and the lambda for naive ridge regression\n",
    "    beta_hat = (XTX+lambdaI)^(-1)XTY\n",
    "    \"\"\"\n",
    "    n_samples,n_features = X.shape\n",
    "    A = np.dot(X.T,X)\n",
    "    Xy= np.dot(X.T,y)\n",
    "  \n",
    "    A.flat[::n_features+1] += alambdas\n",
    "    \n",
    "\n",
    "    return np.linalg.solve(A, Xy)\n",
    "\n",
    "def fast_solve_lineareq(XTX_i,X,y,alambdas):\n",
    "    \"\"\"\n",
    "    The fast version for solving linear equation\n",
    "    \"\"\"\n",
    "    n_samples,n_features = X.shape\n",
    "    # A is the precomputed matirx\n",
    "    A = XTX_i\n",
    "    #X is Xk\n",
    "    Xy= np.dot(X.T,y) \n",
    "    \n",
    "   \n",
    "    A.flat[::n_features+1] += alambdas\n",
    "\n",
    "    return np.linalg.solve(A, Xy)\n",
    "\n",
    "def calculate_mse(x_validate,y_validate,coef):\n",
    "    \"\"\"\n",
    "    calculate the mse using one fold and the calculated coef\n",
    "    \"\"\"    \n",
    "    y_predict = np.dot(x_validate,coef)\n",
    "    \n",
    "    return (np.linalg.norm(-y_validate + y_predict))\n",
    "    \n",
    "def sub_matrix_multi(x_blocks,num_folds):\n",
    "    \"\"\"\n",
    "    given a list of matrixs Xk, return a list of XkTXk\n",
    "    \"\"\"\n",
    "    return [i.T.dot(i) for i in x_blocks] \n",
    "\n",
    "\n",
    "\n",
    "def naive_ridge_cv(X,Y,num_folds,lambdas):\n",
    "    ''' \n",
    "    Implements a naive (ie slow) Ridge Regression of X against Y. \n",
    "    It will take in a list of suggested lambda values and \n",
    "    return back the lambda and betas that generates minimum mean squared error .\n",
    "\n",
    "    Parameters\n",
    "    −−−−−−−−−−\n",
    "        X : numpy ndarray\n",
    "            The independent variables, structured as (samples x features)\n",
    "        Y : numpy ndarray\n",
    "            The dependent variable , (samples x 1)\n",
    "        num_folds : int\n",
    "            The number of folds to use for cross validation, has to be greater than 1\n",
    "        lambdas : numpy ndarray\n",
    "            An array of lambda values to test\n",
    "\n",
    "    Returns\n",
    "    −−−−−−−\n",
    "        lambda_star : float\n",
    "            The lambda value that represents the min MSE\n",
    "        beta_star : numpy ndarray The optimal betas\n",
    "    '''\n",
    "    n_lambdas,n_feature = len(lambdas),X.shape[1]\n",
    "    X,Y,x_blocks,y_blocks= pre_process(X,Y,num_folds)\n",
    "    \n",
    "    #an array to store the best \n",
    "    lambda_star,smallest_err =0,float(\"inf\")\n",
    "        \n",
    "    for i in lambdas:\n",
    "        #record the error for current lambda\n",
    "        cur_error = 0\n",
    "        \n",
    "        for j in range(num_folds):\n",
    "            x_train = (np.vstack([fold for index,fold in enumerate(x_blocks) if index != j]))\n",
    "            y_train = (np.concatenate([fold for index,fold in enumerate(y_blocks) if index != j ]))\n",
    "    \n",
    "            \n",
    "  \n",
    "            #set the test set\n",
    "            x_validate = x_blocks[j]\n",
    "            y_validate = y_blocks[j]\n",
    "            # solve the equation\n",
    "            coef = _solve_lineareq(x_train,y_train,i)\n",
    "            # accumulate the mse\n",
    "            cur_error += calculate_mse(x_validate,y_validate,coef)\n",
    "        #compare mse's between lambdas\n",
    "       \n",
    "        if cur_error < smallest_err:\n",
    "            lambda_star,smallest_err = i,cur_error\n",
    "    #return the best lambdas, and the betas based on that lambda        \n",
    "    return lambda_star,_solve_lineareq(X,Y,lambda_star)\n",
    "            \n",
    "def fast_ridge_cv(X,Y,num_folds,lambdas):\n",
    " \n",
    "  \n",
    "    n_lambdas,n_feature = len(lambdas),X.shape[1] \n",
    "    X,Y,x_blocks,y_blocks= pre_process(X,Y,num_folds)\n",
    "    \n",
    "    \n",
    "    lambda_star,smallest_err = 0,float(\"inf\")\n",
    "    \n",
    "    #calcualte a list of XkTXk\n",
    "    Xk_blocks = sub_matrix_multi(x_blocks,num_folds)\n",
    "    #calculate XTX\n",
    "    XTX = sum(Xk_blocks)\n",
    "    \n",
    "    \n",
    "   \n",
    "    \n",
    "    for i in lambdas:\n",
    "        cur_error = 0\n",
    "        \"\"\"\n",
    "        **********************************\n",
    "        if I pre-calculate XTX_i before the loop, it will have an error at the 7 digits at the diagnal of XTX_i\n",
    "        as loop grows. Why is that?\n",
    "        **********************************\n",
    "        \"\"\"\n",
    "        #Calculate XTX-X_iTX_i\n",
    "        XTX_i = [XTX - Xk for Xk in  Xk_blocks]\n",
    "          \n",
    "        for j in range(num_folds):\n",
    "            \n",
    "            x_train =(np.vstack([fold for index,fold in enumerate(x_blocks) if index != j]))\n",
    "            y_train =(np.concatenate([fold for index,fold in enumerate(y_blocks) if index != j ]))\n",
    "    \n",
    "            \n",
    "            x_validate = x_blocks[j]\n",
    "            y_validate = y_blocks[j]\n",
    "            coef = fast_solve_lineareq(XTX_i[j],x_train,y_train,i)\n",
    "            cur_error += calculate_mse(x_validate,y_validate,coef)\n",
    "        \n",
    "        if cur_error < smallest_err:\n",
    "           \n",
    "            lambda_star,smallest_err = i,cur_error\n",
    "            \n",
    "    return lambda_star,_solve_lineareq(X,Y,lambda_star)"
   ]
  },
  {
   "cell_type": "code",
   "execution_count": 168,
   "metadata": {
    "collapsed": true,
    "deletable": true,
    "editable": true
   },
   "outputs": [],
   "source": [
    "#testing with data size 1000000*50\n",
    "X,Y = generate_test_data(1000000,50 )\n",
    "lambdas = [0,0.3,0.6,0.9,1.2,1.5,1.8,2.1,2.4,2.7]"
   ]
  },
  {
   "cell_type": "code",
   "execution_count": 169,
   "metadata": {
    "collapsed": false,
    "deletable": true,
    "editable": true
   },
   "outputs": [
    {
     "name": "stdout",
     "output_type": "stream",
     "text": [
      "1 loop, best of 3: 30.7 s per loop\n"
     ]
    }
   ],
   "source": [
    "#testing with data size 1000000*50 on Naive\n",
    "\n",
    "%timeit -n1 naive_ridge_cv(X,Y,10,lambdas)"
   ]
  },
  {
   "cell_type": "code",
   "execution_count": 170,
   "metadata": {
    "collapsed": false,
    "deletable": true,
    "editable": true
   },
   "outputs": [
    {
     "name": "stdout",
     "output_type": "stream",
     "text": [
      "1 loop, best of 3: 9.59 s per loop\n"
     ]
    }
   ],
   "source": [
    "#testing with data size 1000000*50 on quick\n",
    "%timeit -n1  fast_ridge_cv(X,Y,10,lambdas)"
   ]
  },
  {
   "cell_type": "code",
   "execution_count": 173,
   "metadata": {
    "collapsed": true,
    "deletable": true,
    "editable": true
   },
   "outputs": [],
   "source": [
    "f =[5,50]\n",
    "n = [1000,10000,100000,1000000]\n",
    "naive_time,fast_time = np.empty((2,4)),np.empty((2,4))\n",
    "lambdas = [0,0.3,0.6,0.9,1.2,1.5,1.8,2.1,2.4,2.7]\n",
    "\n",
    "for i,i_f in enumerate(f):\n",
    "    for j,j_n in enumerate(n):\n",
    "        X,Y = generate_test_data(j_n ,i_f )\n",
    "        start_time = time.time()\n",
    "        beta,coef = fast_ridge_cv(X,Y,10,lambdas)\n",
    "        fast_time[i][j]=(time.time() - start_time)\n",
    "        start_time = time.time()\n",
    "        beta,coef = naive_ridge_cv(X,Y,10,lambdas)\n",
    "        naive_time[i][j]=(time.time() - start_time)\n",
    "\n"
   ]
  },
  {
   "cell_type": "code",
   "execution_count": 177,
   "metadata": {
    "collapsed": false,
    "deletable": true,
    "editable": true
   },
   "outputs": [
    {
     "data": {
      "image/png": "[encoded data removed]",
      "text/plain": [
       "<matplotlib.figure.Figure at 0x7f9f631bf438>"
      ]
     },
     "metadata": {},
     "output_type": "display_data"
    }
   ],
   "source": [
    "n = [1000,10000,100000,1000000]\n",
    "\n",
    "naive_time_log = [i for i in naive_time[0]]\n",
    "fast_time_log = [i for i in fast_time[0]]\n",
    "plt.plot(n,naive_time_log,color = \"b\",label ='Naive implementation')\n",
    "plt.plot(n,fast_time_log,color = 'r',label ='Fast implementation')\n",
    "plt.legend()\n",
    "plt.xlabel(\"N\")\n",
    "plt.ylabel(\"time (s)\")\n",
    "plt.title(\"Time consumed comparision for K = 5\")\n",
    "plt.show()"
   ]
  },
  {
   "cell_type": "code",
   "execution_count": 176,
   "metadata": {
    "collapsed": false,
    "deletable": true,
    "editable": true
   },
   "outputs": [
    {
     "data": {
      "image/png": "[encoded data removed]",
      "text/plain": [
       "<matplotlib.figure.Figure at 0x7f9f63630978>"
      ]
     },
     "metadata": {},
     "output_type": "display_data"
    }
   ],
   "source": [
    "n = [1000,10000,100000,1000000]\n",
    "\n",
    "naive_time_log = [i for i in naive_time[1]]\n",
    "fast_time_log = [i for i in fast_time[1]]\n",
    "plt.plot(n,naive_time_log,color = \"b\",label ='Naive implementation')\n",
    "plt.plot(n,fast_time_log,color = 'r',label ='Fast implementation')\n",
    "plt.legend()\n",
    "plt.xlabel(\"N\")\n",
    "plt.ylabel(\"time (s)\")\n",
    "plt.title(\"Time consumed comparision for K = 50\")\n",
    "plt.show()"
   ]
  }
 ],
 "metadata": {
  "kernelspec": {
   "display_name": "Python 2",
   "language": "python",
   "name": "python2"
  },
  "language_info": {
   "codemirror_mode": {
    "name": "ipython",
    "version": 2
   },
   "file_extension": ".py",
   "mimetype": "text/x-python",
   "name": "python",
   "nbconvert_exporter": "python",
   "pygments_lexer": "ipython2",
   "version": "2.7.12"
  }
 },
 "nbformat": 4,
 "nbformat_minor": 2
}
